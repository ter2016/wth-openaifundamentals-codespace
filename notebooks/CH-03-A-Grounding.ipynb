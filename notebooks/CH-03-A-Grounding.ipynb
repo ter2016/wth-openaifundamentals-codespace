{
 "cells": [
  {
   "cell_type": "markdown",
   "metadata": {},
   "source": [
    "# Challenge 03-A-Grounding  "
   ]
  },
  {
   "cell_type": "markdown",
   "metadata": {},
   "source": [
    "## 1. Overview \n",
    "\n",
    "Grounding is a technique used when you want the model to return reliable answers to a given question. Often times, the GPT models will need additional context to provide a response that does not hallucinate, otherwise known as giving false responses. Remember that these GPT models have only been trained with data up to September 2021. In addition, the models have not been trained with use-case specific data. \n",
    "\n",
    "There are a couple of methods to go about grounding. In this scenario, we will focus mainly on basic grounding within the prompt. In task four, you will see other applications of grounding by using an external knowledge base and implementing the Retrieval Augmented Generation, or RAG technique.\n",
    "\n",
    "To understand the basics of grounding and its benefits, the notebook will walk you through an example. Below is the scenario we will incorporate.\n",
    "\n",
    "## 2. Scenario\n",
    "\n",
    "You are writing a report on the Wimbledon tennis tournament and need to discuss the latest match. Find out who the 2023 winner was for the mens and womens singles."
   ]
  },
  {
   "cell_type": "markdown",
   "metadata": {},
   "source": [
    "## 3. Let's Start Implementation\n",
    "\n",
    "You will need to import the needed modules. The following cells are key setup steps you completed in the previous tasks."
   ]
  },
  {
   "cell_type": "code",
   "execution_count": 1,
   "metadata": {},
   "outputs": [
    {
     "data": {
      "text/plain": [
       "True"
      ]
     },
     "execution_count": 1,
     "metadata": {},
     "output_type": "execute_result"
    }
   ],
   "source": [
    "import openai\n",
    "import os\n",
    "import json\n",
    "\n",
    "from dotenv import load_dotenv, find_dotenv\n",
    "load_dotenv(find_dotenv())"
   ]
  },
  {
   "cell_type": "markdown",
   "metadata": {},
   "source": [
    "Set up your environment to access your Azure OpenAI keys. Refer to your Azure OpenAI resource in the Azure Portal to retrieve information regarding your Azure OpenAI endpoint and keys. \n",
    "\n",
    "For security purposes, store your sensitive information in an .env file."
   ]
  },
  {
   "cell_type": "code",
   "execution_count": 2,
   "metadata": {},
   "outputs": [],
   "source": [
    "API_KEY = os.getenv(\"OPENAI_API_KEY\")\n",
    "assert API_KEY, \"ERROR: Azure OpenAI Key is missing\"\n",
    "openai.api_key = API_KEY\n",
    "\n",
    "RESOURCE_ENDPOINT = os.getenv(\"OPENAI_API_BASE\",\"\").strip()\n",
    "assert RESOURCE_ENDPOINT, \"ERROR: Azure OpenAI Endpoint is missing\"\n",
    "assert \"openai.azure.com\" in RESOURCE_ENDPOINT.lower(), \"ERROR: Azure OpenAI Endpoint should be in the form: \\n\\n\\t<your unique endpoint identifier>.openai.azure.com\"\n",
    "openai.api_base = RESOURCE_ENDPOINT\n",
    "\n",
    "openai.api_type = os.getenv(\"OPENAI_API_TYPE\")\n",
    "openai.api_version = os.getenv(\"OPENAI_API_VERSION\")\n",
    "\n",
    "model=os.getenv(\"CHAT_MODEL_NAME\")"
   ]
  },
  {
   "cell_type": "markdown",
   "metadata": {},
   "source": [
    "### 3.0 Helper Functions\n",
    "\n",
    "get_completion helps create openAI response using text completion model of your choice."
   ]
  },
  {
   "cell_type": "code",
   "execution_count": 3,
   "metadata": {},
   "outputs": [],
   "source": [
    "def get_chat_completion(prompt, model=model):\n",
    "    messages = [{\"role\": \"user\", \"content\": prompt}]\n",
    "    response = openai.ChatCompletion.create(\n",
    "        engine=model,\n",
    "        messages=messages,\n",
    "        temperature=0, # this is the degree of randomness of the model's output\n",
    "        max_tokens = 200,\n",
    "        top_p = 1.0\n",
    "    )\n",
    "    return response.choices[0].message[\"content\"]"
   ]
  },
  {
   "attachments": {},
   "cell_type": "markdown",
   "metadata": {},
   "source": [
    "### 3.1 Before Grounding \n",
    "\n",
    "#### Student Task #1: \n",
    "\n",
    "Edit the prompt in the cell below to ask the model a question regarding the scenario. \n",
    "\n",
    "Scenario: You are writing a report on the Wimbledon tennis tournament and need to discuss the latest match. Find out who the 2023 winner was for the mens and womens singles.\n",
    "\n",
    "Is this the response you expected?"
   ]
  },
  {
   "cell_type": "code",
   "execution_count": 4,
   "metadata": {},
   "outputs": [
    {
     "name": "stdout",
     "output_type": "stream",
     "text": [
      "Response: As an AI language model, I do not have information about future events. I apologize for the inconvenience.\n",
      "\n"
     ]
    }
   ],
   "source": [
    "prompt = f\"\"\"\n",
    " who the 2023 winner was for the mens and womens singles in Wimbledon tennis tournament?\n",
    "\"\"\"\n",
    "\n",
    "model_response = get_chat_completion(prompt, model=model)\n",
    "print(f\"Response: {model_response}\\n\")\n"
   ]
  },
  {
   "attachments": {},
   "cell_type": "markdown",
   "metadata": {},
   "source": [
    "### 3.2 After Grounding\n",
    "\n",
    "#### Student Task #2:\n",
    "\n",
    "Modify the prompt below to ground the model. How can you get a more accurate response than the one you received previously? "
   ]
  },
  {
   "cell_type": "code",
   "execution_count": 5,
   "metadata": {},
   "outputs": [
    {
     "name": "stdout",
     "output_type": "stream",
     "text": [
      "Response: The winners of the 2023 Wimbledon tennis tournament in the men's and women's singles were Carlos Alcaraz and Markéta Vondroušová, respectively.\n",
      "\n"
     ]
    }
   ],
   "source": [
    "prompt = f\"\"\"\n",
    "El torneo de Wimbledon de 2023 fue un campeonato de tenis que se disputó entre el 3 al 16 de julio del 2023, en las pistas de hierba del All England Lawn Tennis and Croquet Club, ubicado en Wimbledon (Reino Unido). Fue la 136.ª edición del campeonato y el tercer torneo de Grand Slam del año, cuyas preliminares se jugaron entre el 26 al 29 de junio del presente año.1​2​\n",
    "Fue el primer torneo que se llevó a cabo bajo el reinado de Carlos III del Reino Unido.\n",
    "Además contó con la vuelta de los campeones defensores en individuales masculinos y femeninos, Novak Djokovic y Elena Rybakina, respectivamente.\n",
    "Este torneo fue el último en la carrera profesional de Anett Kontaveit, quien se retiró prematuramente del tenis a los 27 años debido a una hernia discal lumbar en su espalda. La ex número 2 del mundo disputó su último partido en la segunda ronda ante Marie Bouzkova.\n",
    "Carlos Alcaraz en individuales masculinos y Markéta Vondroušová, en individuales femeninos respectivamente, se proclamaron campeones, el primero derroto al serbio Novak Djokovic, asegurando el N°1 del mundo y por si rompiendo 20 años de dominio que tuvieron el Big Four (el derrotado Djokovic, el español Rafael Nadal, el suizo Roger Federer y el escocés Andy Murray-alternados-, comenzado en el 2003, cuando el tercero, derrotara al australiano Mark Philippoussis), mientras que la segunda, derroto a la tunecina Ons Jabeur, proclamándose campeona y por si la tercera tenista mujer de origen checo en conseguir el trofeo, tras Martina Navratilova y Petra Kvitova.\n",
    "\n",
    "who the 2023 winner was for the mens and womens singles in Wimbledon tennis tournament?\n",
    "\"\"\"\n",
    "\n",
    "model_response = get_chat_completion(prompt, model=model)\n",
    "print(f\"Response: {model_response}\\n\")"
   ]
  },
  {
   "cell_type": "markdown",
   "metadata": {},
   "source": [
    "Is this the answer you expected to help you write your report?"
   ]
  },
  {
   "cell_type": "markdown",
   "metadata": {},
   "source": [
    "## Success Criteria\n",
    "\n",
    "To complete this challenge successfully:\n",
    "\n",
    "* Show an understanding of model grounding and why it is important \n",
    "* Make sure you get an accurate response to your question which will help you complete the scenario described in the beginning of the challenge.\n",
    "\n"
   ]
  }
 ],
 "metadata": {
  "kernelspec": {
   "display_name": "Python 3 (ipykernel)",
   "language": "python",
   "name": "python3"
  },
  "language_info": {
   "codemirror_mode": {
    "name": "ipython",
    "version": 3
   },
   "file_extension": ".py",
   "mimetype": "text/x-python",
   "name": "python",
   "nbconvert_exporter": "python",
   "pygments_lexer": "ipython3",
   "version": "3.10.13"
  },
  "orig_nbformat": 4
 },
 "nbformat": 4,
 "nbformat_minor": 2
}
